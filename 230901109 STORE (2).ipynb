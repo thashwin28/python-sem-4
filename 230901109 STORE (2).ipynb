{
 "cells": [
  {
   "cell_type": "code",
   "execution_count": 1,
   "id": "4bcc9af8",
   "metadata": {},
   "outputs": [
    {
     "name": "stdout",
     "output_type": "stream",
     "text": [
      "       a  b  c\n",
      "one    1  2  3\n",
      "two    4  5  6\n",
      "three  7  8  9\n"
     ]
    }
   ],
   "source": [
    "import pandas as pd\n",
    "df=pd.DataFrame([[1,2,3],[4,5,6],[7,8,9]],index=['one','two','three'],columns=['a','b','c'])\n",
    "print(df)"
   ]
  },
  {
   "cell_type": "code",
   "execution_count": 2,
   "id": "4c7953cf",
   "metadata": {},
   "outputs": [],
   "source": [
    " df.to_excel(\"/Users/student/Downloads/data1.xlsx\")\n"
   ]
  },
  {
   "cell_type": "code",
   "execution_count": 3,
   "id": "eac22db9",
   "metadata": {},
   "outputs": [],
   "source": [
    "df.to_excel(\"/Users/student/Downloads/data2.xlsx\")"
   ]
  },
  {
   "cell_type": "code",
   "execution_count": 14,
   "id": "c1a85d47",
   "metadata": {},
   "outputs": [],
   "source": [
    "df=pd.DataFrame([[10,20,30],[40,50,60],[70,80,90]],index=['four','five','six'],columns=['x','y','z'])\n",
    "df.to_excel(\"/Users/student/Downloads/data1.xlsx\")\n"
   ]
  },
  {
   "cell_type": "code",
   "execution_count": 15,
   "id": "2dba130a",
   "metadata": {},
   "outputs": [],
   "source": [
    "df=pd.DataFrame([[6,8],[1,2]],index=['a','b'],columns=['x','y'])\n",
    "df.to_excel(\"/Users/student/Downloads/data2.xlsx\")\n"
   ]
  },
  {
   "cell_type": "code",
   "execution_count": 16,
   "id": "c3e9c86d",
   "metadata": {},
   "outputs": [],
   "source": [
    "x=pd.read_excel(\"/Users/student/Downloads/data1.xlsx\")\n",
    "y=pd.read_excel(\"/Users/student/Downloads/data2.xlsx\")\n",
    "z=pd.concat([x,y])\n",
    "z.to_excel(\"/Users/student/Downloads/data3.xlsx\")"
   ]
  },
  {
   "cell_type": "code",
   "execution_count": 17,
   "id": "958b2a3a",
   "metadata": {},
   "outputs": [
    {
     "name": "stdout",
     "output_type": "stream",
     "text": [
      "  Unnamed: 0   x   y     z\n",
      "1          b   1   2   NaN\n",
      "0          a   6   8   NaN\n",
      "0       four  10  20  30.0\n",
      "1       five  40  50  60.0\n",
      "2        six  70  80  90.0\n",
      "  Unnamed: 0   x   y     z\n",
      "1          b   1   2   NaN\n",
      "0          a   6   8   NaN\n",
      "0       four  10  20  30.0\n",
      "1       five  40  50  60.0\n",
      "2        six  70  80  90.0\n"
     ]
    }
   ],
   "source": [
    "df=z.sort_values([\"x\"])\n",
    "print(df)\n",
    "df.to_excel(\"/Users/student/Downloads/data3.xlsx\")\n",
    "df=z.sort_values([\"y\"])\n",
    "print(df)\n",
    "df.to_excel(\"/Users/student/Downloads/data3.xlsx\")"
   ]
  },
  {
   "cell_type": "code",
   "execution_count": 2,
   "id": "cf774655",
   "metadata": {},
   "outputs": [
    {
     "name": "stdout",
     "output_type": "stream",
     "text": [
      "   Unnamed: 0.1 Unnamed: 0   x   y     z\n",
      "0             1          b   1   2   NaN\n",
      "1             0          a   6   8   NaN\n",
      "2             0       four  10  20  30.0\n",
      "3             1       five  40  50  60.0\n",
      "4             2        six  70  80  90.0\n",
      "['Unnamed: 0.1', 'Unnamed: 0', 'x', 'y', 'z']\n",
      "5\n"
     ]
    }
   ],
   "source": [
    "import pandas as pd\n",
    "df=pd.read_excel(\"/Users/student/Downloads/data3.xlsx\")\n",
    "print(df)\n",
    "print(list(df))\n",
    "print(format(len(df)))"
   ]
  },
  {
   "cell_type": "code",
   "execution_count": null,
   "id": "5912a1b9",
   "metadata": {},
   "outputs": [],
   "source": []
  }
 ],
 "metadata": {
  "kernelspec": {
   "display_name": "Python 3 (ipykernel)",
   "language": "python",
   "name": "python3"
  },
  "language_info": {
   "codemirror_mode": {
    "name": "ipython",
    "version": 3
   },
   "file_extension": ".py",
   "mimetype": "text/x-python",
   "name": "python",
   "nbconvert_exporter": "python",
   "pygments_lexer": "ipython3",
   "version": "3.11.5"
  }
 },
 "nbformat": 4,
 "nbformat_minor": 5
}
