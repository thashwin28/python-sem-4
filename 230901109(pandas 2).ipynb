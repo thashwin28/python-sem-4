{
 "cells": [
  {
   "cell_type": "code",
   "execution_count": 1,
   "id": "851231ed",
   "metadata": {},
   "outputs": [
    {
     "name": "stdout",
     "output_type": "stream",
     "text": [
      "DataFrame.applyfunction:\n",
      "\n",
      "\n",
      " Original DataFrame:\n",
      "    S  R\n",
      "0  3  9\n",
      "1  3  9\n",
      "2  3  9\n",
      "3  3  9\n",
      "\n",
      " Squareroot of DataFrame:\n",
      "           S    R\n",
      "0  1.732051  3.0\n",
      "1  1.732051  3.0\n",
      "2  1.732051  3.0\n",
      "3  1.732051  3.0\n",
      "\n",
      " sum of each column:\n",
      " S    12\n",
      "R    36\n",
      "dtype: int64\n",
      "\n",
      " sum of each row:\n",
      " 0    12\n",
      "1    12\n",
      "2    12\n",
      "3    12\n",
      "dtype: int64\n"
     ]
    }
   ],
   "source": [
    "import pandas as pd \n",
    "import numpy as np\n",
    "print(\"DataFrame.applyfunction:\\n\")\n",
    "info=pd.DataFrame([[3,9]]*4,columns=['S','R'])\n",
    "print(\"\\n Original DataFrame:\\n\",info)\n",
    "print(\"\\n Squareroot of DataFrame:\\n\",info.apply(np.sqrt))\n",
    "print(\"\\n sum of each column:\\n\",info.apply(np.sum,axis=0))\n",
    "print(\"\\n sum of each row:\\n\",info.apply(np.sum,axis=1))"
   ]
  },
  {
   "cell_type": "code",
   "execution_count": 2,
   "id": "67a9a18a",
   "metadata": {},
   "outputs": [
    {
     "name": "stdout",
     "output_type": "stream",
     "text": [
      "\n",
      " Orginal DataFrame : \n",
      "    x  y  z\n",
      "0  2  4  6\n",
      "1  1  3  5\n",
      "2  5  8  7\n",
      "\n",
      " Minimum and maximum of each colum:\n",
      "\n",
      "     x  y  z\n",
      "min  1  3  5\n",
      "max  5  8  7\n"
     ]
    }
   ],
   "source": [
    "info=pd.DataFrame([[2,4,6],[1,3,5],[5,8,7]],columns=['x','y','z'])\n",
    "print(\"\\n Orginal DataFrame : \\n\",info)\n",
    "print(\"\\n Minimum and maximum of each colum:\\n\")\n",
    "print(info.agg(['min','max']))"
   ]
  },
  {
   "cell_type": "code",
   "execution_count": 4,
   "id": "c86f9a29",
   "metadata": {},
   "outputs": [
    {
     "name": "stdout",
     "output_type": "stream",
     "text": [
      "\n",
      " DataFrame.Assign function : \n",
      "\n",
      "\n",
      " Original DataFrame: \n",
      "          0   1\n",
      "0   Balaji  88\n",
      "1  Ronaldo  70\n",
      "\n",
      " Adding new column: \n",
      "          0   1  Age\n",
      "0   Balaji  88   20\n",
      "1  Ronaldo  70   18\n",
      "\n",
      " Adding new column: \n",
      "          0   1  Age   sex\n",
      "0   Balaji  88   20  Male\n",
      "1  Ronaldo  70   18  Male\n"
     ]
    }
   ],
   "source": [
    "import pandas as pd\n",
    "import numpy as np\n",
    "print(\"\\n DataFrame.Assign function : \\n\")\n",
    "d2=pd.DataFrame([['Balaji',88],['Ronaldo',70]])\n",
    "col=(['Emp','ID'])\n",
    "print(\"\\n Original DataFrame: \\n\",d2)\n",
    "d2['Age']=[20,18]\n",
    "print(\"\\n Adding new column: \\n\",d2)\n",
    "d=d2.assign(sex=['Male','Male'])\n",
    "print(\"\\n Adding new column: \\n\",d)"
   ]
  },
  {
   "cell_type": "code",
   "execution_count": 6,
   "id": "3fac8e58",
   "metadata": {},
   "outputs": [
    {
     "name": "stdout",
     "output_type": "stream",
     "text": [
      "\n",
      " dataframe sort function:\n",
      "\n",
      "          A         B\n",
      "3  2.838926 -0.184331\n",
      "2  0.363853 -0.242709\n",
      "0 -1.257888  0.138172\n",
      "4  1.180922 -0.912890\n",
      "1 -0.330015 -1.745896\n",
      "\n",
      " sort index:\n",
      "           A         B\n",
      "0 -1.257888  0.138172\n",
      "1 -0.330015 -1.745896\n",
      "2  0.363853 -0.242709\n",
      "3  2.838926 -0.184331\n",
      "4  1.180922 -0.912890\n",
      "\n",
      " sort values:\n",
      "           A         B\n",
      "0 -1.257888  0.138172\n",
      "1 -0.330015 -1.745896\n",
      "2  0.363853 -0.242709\n",
      "4  1.180922 -0.912890\n",
      "3  2.838926 -0.184331\n"
     ]
    }
   ],
   "source": [
    "print(\"\\n dataframe sort function:\\n\")\n",
    "info=pd.DataFrame(np.random.randn(5,2),index=[3,2,0,4,1],columns=['A','B'])\n",
    "print(info)\n",
    "info2=info.sort_index()\n",
    "print(\"\\n sort index:\\n\",info2)\n",
    "info3=info.sort_values(by='A')\n",
    "print(\"\\n sort values:\\n\",info3)"
   ]
  },
  {
   "cell_type": "code",
   "execution_count": 11,
   "id": "3920a01a",
   "metadata": {},
   "outputs": [
    {
     "name": "stdout",
     "output_type": "stream",
     "text": [
      "\n",
      " dataframe merge function:\n",
      "\n",
      "   id  name   sub\n",
      "0   1   sai  sub1\n",
      "1   2  ravi  sub2\n",
      "2   3   poo  sub4\n",
      "3   4  yash  sub3\n",
      "   id    name   sub\n",
      "0   1  sanjay  sub1\n",
      "1   2     ram  sub4\n",
      "2   3  selvin  sub3\n",
      "3   4    raju  sub2\n",
      "   id name_x sub_x  name_y sub_y\n",
      "0   1    sai  sub1  sanjay  sub1\n",
      "1   2   ravi  sub2     ram  sub4\n",
      "2   3    poo  sub4  selvin  sub3\n",
      "3   4   yash  sub3    raju  sub2\n"
     ]
    }
   ],
   "source": [
    "print(\"\\n dataframe merge function:\\n\")\n",
    "left=pd.DataFrame({'id':[1,2,3,4],\n",
    "                  'name':['sai','ravi','poo','yash'],\n",
    "                  'sub':['sub1','sub2','sub4','sub3']})\n",
    "right=pd.DataFrame({'id':[1,2,3,4],\n",
    "                   'name':['sanjay','ram','selvin','raju'],\n",
    "                   'sub':['sub1','sub4','sub3','sub2']})\n",
    "print(left)\n",
    "print(right)\n",
    "print(pd.merge(left,right,on='id'))"
   ]
  },
  {
   "cell_type": "code",
   "execution_count": null,
   "id": "deac6841",
   "metadata": {},
   "outputs": [],
   "source": []
  }
 ],
 "metadata": {
  "kernelspec": {
   "display_name": "Python 3 (ipykernel)",
   "language": "python",
   "name": "python3"
  },
  "language_info": {
   "codemirror_mode": {
    "name": "ipython",
    "version": 3
   },
   "file_extension": ".py",
   "mimetype": "text/x-python",
   "name": "python",
   "nbconvert_exporter": "python",
   "pygments_lexer": "ipython3",
   "version": "3.11.4"
  }
 },
 "nbformat": 4,
 "nbformat_minor": 5
}
