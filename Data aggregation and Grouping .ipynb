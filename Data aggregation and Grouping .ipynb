{
 "cells": [
  {
   "cell_type": "code",
   "execution_count": 2,
   "id": "5bbcaae4",
   "metadata": {},
   "outputs": [
    {
     "name": "stdout",
     "output_type": "stream",
     "text": [
      "\n",
      " original DataFrame:\n",
      "       Name Category  Value  Score\n",
      "0    Alice        A      4     80\n",
      "1      Bob        B      2     78\n",
      "2  Charlie        C      1     68\n",
      "3    Alice        A      1     92\n",
      "4      Bob        B      3     68\n",
      "5  Charlie        C      2     74\n",
      "\n",
      " Group and Aggregate with one column:\n",
      "       Name  Value\n",
      "0    Alice      5\n",
      "1      Bob      5\n",
      "2  Charlie      3\n"
     ]
    }
   ],
   "source": [
    "import numpy as np\n",
    "import pandas as pd\n",
    "df=pd.DataFrame({'Name':['Alice','Bob','Charlie','Alice','Bob','Charlie'],\n",
    "                'Category':['A','B','C','A','B','C'],\n",
    "                'Value':np.random.randint(1,5,size=6),\n",
    "                'Score':np.random.randint(60,100,size=6)})\n",
    "print(\"\\n original DataFrame:\\n\",df)\n",
    "df1=df.groupby(('Name'),as_index=False)['Value'].sum()\n",
    "print(\"\\n Group and Aggregate with one column:\\n\",df1)"
   ]
  },
  {
   "cell_type": "code",
   "execution_count": 3,
   "id": "4085291b",
   "metadata": {},
   "outputs": [
    {
     "name": "stdout",
     "output_type": "stream",
     "text": [
      "\n",
      " Group and Aggregate with two column sum:\n",
      "       Name  Value  Score\n",
      "0    Alice      5    133\n",
      "1      Bob      7    164\n",
      "2  Charlie      6    142\n"
     ]
    }
   ],
   "source": [
    "df2=df.groupby(('Name'),as_index=False)[['Value','Score']].sum()\n",
    "print(\"\\n Group and Aggregate with two column sum:\\n\",df2)"
   ]
  },
  {
   "cell_type": "code",
   "execution_count": 4,
   "id": "3f683f7f",
   "metadata": {},
   "outputs": [
    {
     "name": "stdout",
     "output_type": "stream",
     "text": [
      "\n",
      " Group and Aggregate with one column:\n",
      "       Name  Value\n",
      "0    Alice      5\n",
      "1      Bob      7\n",
      "2  Charlie      6\n"
     ]
    }
   ],
   "source": [
    "df3=df.groupby(('Name'),as_index=False)['Value'].agg('sum')\n",
    "print(\"\\n Group and Aggregate with one column:\\n\",df3)"
   ]
  },
  {
   "cell_type": "code",
   "execution_count": 5,
   "id": "6e8deca9",
   "metadata": {},
   "outputs": [
    {
     "name": "stdout",
     "output_type": "stream",
     "text": [
      "\n",
      " Group and Aggregate with one column:\n",
      "       Name  Value\n",
      "0    Alice      4\n",
      "1      Bob      4\n",
      "2  Charlie      4\n"
     ]
    }
   ],
   "source": [
    "df4=df.groupby(('Name'),as_index=False)['Value'].agg('max')\n",
    "print(\"\\n Group and Aggregate with one column:\\n\",df4)"
   ]
  },
  {
   "cell_type": "code",
   "execution_count": 6,
   "id": "a81b2bce",
   "metadata": {},
   "outputs": [
    {
     "name": "stdout",
     "output_type": "stream",
     "text": [
      "\n",
      " Group by name and multiple aggregation:\n",
      "         Value              Score      \n",
      "          sum mean min max   sum  mean\n",
      "Name                                  \n",
      "Alice       5  2.5   1   4   133  66.5\n",
      "Bob         7  3.5   3   4   164  82.0\n",
      "Charlie     6  3.0   2   4   142  71.0\n"
     ]
    }
   ],
   "source": [
    "df4=df.groupby('Name').agg({'Value':['sum','mean','min','max'],\n",
    "                           'Score':['sum','mean']})\n",
    "print(\"\\n Group by name and multiple aggregation:\\n\",df4)"
   ]
  },
  {
   "cell_type": "code",
   "execution_count": 3,
   "id": "a49d5e11",
   "metadata": {},
   "outputs": [
    {
     "name": "stdout",
     "output_type": "stream",
     "text": [
      "\n",
      " Group and Count:\n",
      "       Name  Value\n",
      "0    Alice      2\n",
      "1      Bob      2\n",
      "2  Charlie      2\n"
     ]
    }
   ],
   "source": [
    "df5=df.groupby(('Name'),as_index=False)['Value'].count()\n",
    "print(\"\\n Group and Count:\\n\",df5)"
   ]
  },
  {
   "cell_type": "code",
   "execution_count": 4,
   "id": "f3605507",
   "metadata": {},
   "outputs": [
    {
     "name": "stdout",
     "output_type": "stream",
     "text": [
      "\n",
      " Group and Count:\n",
      "          Category  Value  Score\n",
      "Name                           \n",
      "Alice           2      2      2\n",
      "Bob             2      2      2\n",
      "Charlie         2      2      2\n"
     ]
    }
   ],
   "source": [
    "df6=df.groupby(('Name')).count()\n",
    "print(\"\\n Group and Count:\\n\",df6)"
   ]
  },
  {
   "cell_type": "code",
   "execution_count": 6,
   "id": "c7e6bdc3",
   "metadata": {},
   "outputs": [
    {
     "name": "stdout",
     "output_type": "stream",
     "text": [
      "\n",
      " Group and display from first:\n",
      "       Name  Value\n",
      "0    Alice      4\n",
      "1      Bob      2\n",
      "2  Charlie      1\n"
     ]
    }
   ],
   "source": [
    "df7=df.groupby(('Name'),as_index=False)['Value'].first()\n",
    "print(\"\\n Group and display from first:\\n\",df7)"
   ]
  },
  {
   "cell_type": "code",
   "execution_count": 7,
   "id": "7a3fc447",
   "metadata": {},
   "outputs": [
    {
     "name": "stdout",
     "output_type": "stream",
     "text": [
      "\n",
      " Group and display from first:\n",
      "         Category  Value  Score\n",
      "Name                          \n",
      "Alice          A      4     80\n",
      "Bob            B      2     78\n",
      "Charlie        C      1     68\n"
     ]
    }
   ],
   "source": [
    "df8=df.groupby(('Name')).first()\n",
    "print(\"\\n Group and display from first:\\n\",df8)"
   ]
  },
  {
   "cell_type": "code",
   "execution_count": 8,
   "id": "9945b92d",
   "metadata": {},
   "outputs": [
    {
     "name": "stdout",
     "output_type": "stream",
     "text": [
      "\n",
      " Group and display from last:\n",
      "       Name  Value\n",
      "0    Alice      1\n",
      "1      Bob      3\n",
      "2  Charlie      2\n"
     ]
    }
   ],
   "source": [
    "df9=df.groupby(('Name'),as_index=False)['Value'].last()\n",
    "print(\"\\n Group and display from last:\\n\",df9)"
   ]
  },
  {
   "cell_type": "code",
   "execution_count": 9,
   "id": "a7c63e49",
   "metadata": {},
   "outputs": [
    {
     "name": "stdout",
     "output_type": "stream",
     "text": [
      "\n",
      " Group and display from last:\n",
      "         Category  Value  Score\n",
      "Name                          \n",
      "Alice          A      1     92\n",
      "Bob            B      3     68\n",
      "Charlie        C      2     74\n"
     ]
    }
   ],
   "source": [
    "df10=df.groupby(('Name')).last()\n",
    "print(\"\\n Group and display from last:\\n\",df10)"
   ]
  },
  {
   "cell_type": "code",
   "execution_count": 10,
   "id": "ed1d846b",
   "metadata": {},
   "outputs": [
    {
     "name": "stdout",
     "output_type": "stream",
     "text": [
      "\n",
      " Group and display size:\n",
      "       Name  size\n",
      "0    Alice     2\n",
      "1      Bob     2\n",
      "2  Charlie     2\n"
     ]
    }
   ],
   "source": [
    "df11=df.groupby(('Name'),as_index=False)['Value'].size()\n",
    "print(\"\\n Group and display size:\\n\",df11)"
   ]
  },
  {
   "cell_type": "code",
   "execution_count": 11,
   "id": "5da80d1c",
   "metadata": {},
   "outputs": [
    {
     "name": "stdout",
     "output_type": "stream",
     "text": [
      "\n",
      " Group and display size:\n",
      " Name\n",
      "Alice      2\n",
      "Bob        2\n",
      "Charlie    2\n",
      "dtype: int64\n"
     ]
    }
   ],
   "source": [
    "df12=df.groupby(('Name')).size()\n",
    "print(\"\\n Group and display size:\\n\",df12)"
   ]
  },
  {
   "cell_type": "code",
   "execution_count": null,
   "id": "2914bdad",
   "metadata": {},
   "outputs": [],
   "source": []
  }
 ],
 "metadata": {
  "kernelspec": {
   "display_name": "Python 3 (ipykernel)",
   "language": "python",
   "name": "python3"
  },
  "language_info": {
   "codemirror_mode": {
    "name": "ipython",
    "version": 3
   },
   "file_extension": ".py",
   "mimetype": "text/x-python",
   "name": "python",
   "nbconvert_exporter": "python",
   "pygments_lexer": "ipython3",
   "version": "3.11.5"
  }
 },
 "nbformat": 4,
 "nbformat_minor": 5
}
