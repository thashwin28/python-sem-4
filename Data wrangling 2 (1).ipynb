{
 "cells": [
  {
   "cell_type": "code",
   "execution_count": 1,
   "id": "e85d52ac",
   "metadata": {},
   "outputs": [
    {
     "name": "stdout",
     "output_type": "stream",
     "text": [
      "Originaldataframe:\n",
      "    Name  Age Gender Marks\n",
      "0   Sai   20      M    90\n",
      "1  yuva   18      F    76\n",
      "2   poo   19      M   NaN\n",
      "3  Savi   20      F    74\n",
      "4  Ruba   18      F    65\n",
      "5   Raj   17      M   NaN\n",
      "6  Ravi   19      M    71\n",
      "\n",
      " Replacing NaN with average marks:\n",
      "    Name  Age Gender  Marks\n",
      "0   Sai   20      M   90.0\n",
      "1  yuva   18      F   76.0\n",
      "2   poo   19      M   75.2\n",
      "3  Savi   20      F   74.0\n",
      "4  Ruba   18      F   65.0\n",
      "5   Raj   17      M   75.2\n",
      "6  Ravi   19      M   71.0\n"
     ]
    }
   ],
   "source": [
    "import pandas as pd\n",
    "data={'Name':['Sai','yuva','poo','Savi','Ruba','Raj','Ravi'],'Age':[20,18,19,20,18,17,19],\n",
    "     'Gender':['M','F','M','F','F','M','M'],'Marks':[90,76,'NaN',74,65,'NaN',71]}\n",
    "df=pd.DataFrame(data)\n",
    "print(\"Originaldataframe:\\n\",df)\n",
    "c=avg=0\n",
    "for ele in df['Marks']:\n",
    "    if str(ele).isnumeric():\n",
    "        c+=1\n",
    "        avg+=ele\n",
    "avg/=c\n",
    "df=df.replace(to_replace='NaN',value=avg)\n",
    "print(\"\\n Replacing NaN with average marks:\\n\",df)"
   ]
  },
  {
   "cell_type": "code",
   "execution_count": 2,
   "id": "2c235c57",
   "metadata": {},
   "outputs": [
    {
     "name": "stdout",
     "output_type": "stream",
     "text": [
      "\n",
      " Filtering and dropping function:\n",
      "    Name Gender  Marks\n",
      "0   Sai      M   90.0\n",
      "1  yuva      F   76.0\n",
      "2   poo      M   75.2\n",
      "5   Raj      M   75.2\n"
     ]
    }
   ],
   "source": [
    "df=df[df['Marks']>=75]\n",
    "df=df.drop(['Age'],axis=1)\n",
    "print(\"\\n Filtering and dropping function:\\n\",df)"
   ]
  },
  {
   "cell_type": "code",
   "execution_count": 3,
   "id": "094e1ea2",
   "metadata": {},
   "outputs": [
    {
     "name": "stdout",
     "output_type": "stream",
     "text": [
      "\n",
      " original DataFrame1\n",
      "    Name Subject_id  Marks_scored\n",
      "1   Sai       Sub1            98\n",
      "2   Raj       Sub2            90\n",
      "3  Yuva       Sub3            92\n",
      "4   Ram       Sub4            85\n",
      "5   Sam       Sub5            89\n",
      "\n",
      " original DataFrame2\n",
      "     Name Subject_id  Marks_scored\n",
      "1  Sanju       Sub1            73\n",
      "2   Rave       Sub2            80\n",
      "3  Shree       Sub3            85\n",
      "4   Niki       Sub4            98\n",
      "5  Rahul       Sub5            79\n",
      "    Name Subject_id  Marks_scored\n",
      "1    Sai       Sub1            98\n",
      "2    Raj       Sub2            90\n",
      "3   Yuva       Sub3            92\n",
      "4    Ram       Sub4            85\n",
      "5    Sam       Sub5            89\n",
      "1  Sanju       Sub1            73\n",
      "2   Rave       Sub2            80\n",
      "3  Shree       Sub3            85\n",
      "4   Niki       Sub4            98\n",
      "5  Rahul       Sub5            79\n"
     ]
    }
   ],
   "source": [
    "one=pd.DataFrame({'Name':['Sai','Raj','Yuva','Ram','Sam'],\n",
    "                  'Subject_id':['Sub1','Sub2','Sub3','Sub4','Sub5'],\n",
    "                 'Marks_scored':[98,90,92,85,89]},index=[1,2,3,4,5])\n",
    "two=pd.DataFrame({'Name':['Sanju','Rave','Shree','Niki','Rahul'],\n",
    "                 'Subject_id':['Sub1','Sub2','Sub3','Sub4','Sub5'],\n",
    "                 'Marks_scored':[73,80,85,98,79]},index=[1,2,3,4,5])\n",
    "print(\"\\n original DataFrame1\\n\",one)\n",
    "print(\"\\n original DataFrame2\\n\",two)\n",
    "print(pd.concat([one,two]))"
   ]
  },
  {
   "cell_type": "code",
   "execution_count": null,
   "id": "468a7f78",
   "metadata": {},
   "outputs": [],
   "source": []
  }
 ],
 "metadata": {
  "kernelspec": {
   "display_name": "Python 3 (ipykernel)",
   "language": "python",
   "name": "python3"
  },
  "language_info": {
   "codemirror_mode": {
    "name": "ipython",
    "version": 3
   },
   "file_extension": ".py",
   "mimetype": "text/x-python",
   "name": "python",
   "nbconvert_exporter": "python",
   "pygments_lexer": "ipython3",
   "version": "3.11.5"
  }
 },
 "nbformat": 4,
 "nbformat_minor": 5
}
