{
 "cells": [
  {
   "cell_type": "code",
   "execution_count": 11,
   "id": "0bd8e638",
   "metadata": {},
   "outputs": [
    {
     "name": "stdout",
     "output_type": "stream",
     "text": [
      "\n",
      " original DataFrame:\n",
      "        Brand  Year  Sold\n",
      "0     Maruti  2010     6\n",
      "1     Maruti  2011     7\n",
      "2     Maruti  2009     9\n",
      "3     Maruti  2013     8\n",
      "4    Hyundai  2010     3\n",
      "5    Hyundai  2011     5\n",
      "6     Toyota  2011     2\n",
      "7   Mahindra  2010     8\n",
      "8   Mahindra  2013     7\n",
      "9       Ford  2010     2\n",
      "10    Toyota  2010     4\n",
      "11      Ford  2011     2\n",
      "\n",
      " Group by Year:\n",
      "        Brand  Year  Sold\n",
      "0     Maruti  2010     6\n",
      "4    Hyundai  2010     3\n",
      "7   Mahindra  2010     8\n",
      "9       Ford  2010     2\n",
      "10    Toyota  2010     4\n"
     ]
    }
   ],
   "source": [
    "import pandas as pd\n",
    "Car_selling_data={'Brand':['Maruti','Maruti','Maruti','Maruti','Hyundai','Hyundai','Toyota','Mahindra',\n",
    "                           'Mahindra','Ford','Toyota','Ford'],\n",
    "                 'Year':[2010,2011,2009,2013,2010,2011,2011,2010,2013,2010,2010,2011],\n",
    "                 'Sold':[6,7,9,8,3,5,2,8,7,2,4,2]}\n",
    "df=pd.DataFrame(Car_selling_data)\n",
    "print(\"\\n original DataFrame:\\n\",df)\n",
    "grouped=df.groupby('Year')\n",
    "print(\"\\n Group by Year:\\n\",grouped.get_group(2010))"
   ]
  },
  {
   "cell_type": "code",
   "execution_count": 15,
   "id": "ee82ec52",
   "metadata": {},
   "outputs": [
    {
     "name": "stdout",
     "output_type": "stream",
     "text": [
      "\n",
      "original dataframe:\n",
      "        name  roll_no             email\n",
      "0       jai       20     ram@gmail.com\n",
      "1     rahul       25     jai@gmail.com\n",
      "2  indrajth       20   shiva@gmail.com\n",
      "3     gokul       32   jeeva@gmail.com\n",
      "4    balaji       69  balaji@gmail.com\n",
      "5   kishore       32    ravi@gmail.com\n",
      "6       ram       20   rishi@gmail.com\n",
      "7   rudresh       35    aaku@gmail.com\n",
      "8    nithin       69     ash@gmail.com\n",
      "9  thashwin       11  tharun@gmail.com\n"
     ]
    }
   ],
   "source": [
    "student_data={'name':['jai','rahul','indrajth','gokul','balaji','kishore','ram','rudresh','nithin','thashwin'],\n",
    "             'roll_no':[20,25,20,32,69,32,20,35,69,11],\n",
    "             'email':['ram@gmail.com','jai@gmail.com','shiva@gmail.com','jeeva@gmail.com','balaji@gmail.com',\n",
    "                      'ravi@gmail.com','rishi@gmail.com','aaku@gmail.com','ash@gmail.com','tharun@gmail.com']}\n",
    "df=pd.DataFrame(student_data)\n",
    "print(\"\\noriginal dataframe:\\n\",df)"
   ]
  },
  {
   "cell_type": "code",
   "execution_count": 13,
   "id": "421af21d",
   "metadata": {},
   "outputs": [
    {
     "name": "stdout",
     "output_type": "stream",
     "text": [
      "Original DataFrame1\n",
      "     ID  Name Branch\n",
      "0  101  Arun   Mech\n",
      "1  102  Pavi   Mech\n",
      "2  103   Sai    CSE\n",
      "3  104   Poo    CSE\n",
      "4  105  Ravi    CSE\n",
      "5  106   Anu    EEE\n",
      "6  107  Jack    EEE\n",
      "7  108  Amit    EEE\n",
      "8  109   Ria     IT\n",
      "9  110  Savi     IT\n",
      "Original DataFrame2\n",
      "     ID Pending\n",
      "0  102    5000\n",
      "1  102     250\n",
      "2  103     NIL\n",
      "3  104    9000\n",
      "4  105   15000\n",
      "5  106     NIL\n",
      "6  107    4500\n",
      "7  108    1800\n",
      "8  109     250\n",
      "9  110     NIL\n",
      "Merged DataFrame\n",
      "     ID  Name Branch Pending\n",
      "0  102  Pavi   Mech    5000\n",
      "1  102  Pavi   Mech     250\n",
      "2  103   Sai    CSE     NIL\n",
      "3  104   Poo    CSE    9000\n",
      "4  105  Ravi    CSE   15000\n",
      "5  106   Anu    EEE     NIL\n",
      "6  107  Jack    EEE    4500\n",
      "7  108  Amit    EEE    1800\n",
      "8  109   Ria     IT     250\n",
      "9  110  Savi     IT     NIL\n"
     ]
    }
   ],
   "source": [
    "details=pd.DataFrame({'ID':[101,102,103,104,105,106,107,108,109,110],'Name':['Arun','Pavi','Sai','Poo','Ravi','Anu','Jack','Amit','Ria','Savi'],'Branch':['Mech','Mech','CSE','CSE','CSE','EEE','EEE','EEE','IT','IT']})\n",
    "print('Original DataFrame1\\n',details)\n",
    "fees_status=pd.DataFrame({'ID':[102,102,103,104,105,106,107,108,109,110],'Pending':['5000','250','NIL','9000','15000','NIL','4500','1800','250','NIL']})\n",
    "print('Original DataFrame2\\n',fees_status)\n",
    "print('Merged DataFrame\\n',pd.merge(details,fees_status,on='ID'))"
   ]
  },
  {
   "cell_type": "code",
   "execution_count": null,
   "id": "b06cd25e",
   "metadata": {},
   "outputs": [],
   "source": []
  }
 ],
 "metadata": {
  "kernelspec": {
   "display_name": "Python 3 (ipykernel)",
   "language": "python",
   "name": "python3"
  },
  "language_info": {
   "codemirror_mode": {
    "name": "ipython",
    "version": 3
   },
   "file_extension": ".py",
   "mimetype": "text/x-python",
   "name": "python",
   "nbconvert_exporter": "python",
   "pygments_lexer": "ipython3",
   "version": "3.11.5"
  }
 },
 "nbformat": 4,
 "nbformat_minor": 5
}
