{
 "cells": [
  {
   "cell_type": "code",
   "execution_count": 4,
   "id": "067bb4b1",
   "metadata": {},
   "outputs": [
    {
     "name": "stdout",
     "output_type": "stream",
     "text": [
      "\n",
      "With this date object, create a series with datetime index:\n",
      " 2020-01-05   -0.332557\n",
      "2020-01-10    1.132926\n",
      "2020-01-15    0.360013\n",
      "2020-01-20    0.550417\n",
      "2020-01-25    1.363621\n",
      "dtype: float64\n"
     ]
    }
   ],
   "source": [
    "import pandas as pd\n",
    "import numpy as np\n",
    "from datetime import datetime\n",
    "dates = [datetime(2020,1,5),datetime(2020,1,10), \n",
    "         datetime(2020,1,15),\n",
    "         datetime(2020,1,20),\n",
    "         datetime(2020,1,25)]\n",
    "ts = pd.Series(np.random.randn(5), index=dates)\n",
    "print(\"\\nWith this date object, create a series with datetime index:\\n\",ts)"
   ]
  },
  {
   "cell_type": "code",
   "execution_count": 5,
   "id": "c5672493",
   "metadata": {},
   "outputs": [
    {
     "name": "stdout",
     "output_type": "stream",
     "text": [
      "\n",
      "Truncate method to truncate datetime series \n",
      " 2020-01-05   -0.332557\n",
      "2020-01-10    1.132926\n",
      "2020-01-15    0.360013\n",
      "dtype: float64\n"
     ]
    }
   ],
   "source": [
    "res=ts.truncate(after=\"1/15/2020\")\n",
    "print(\"\\nTruncate method to truncate datetime series \\n\", res)"
   ]
  },
  {
   "cell_type": "code",
   "execution_count": 6,
   "id": "772fec5e",
   "metadata": {},
   "outputs": [
    {
     "name": "stdout",
     "output_type": "stream",
     "text": [
      "\n",
      "Date range with day periods.\n",
      " DatetimeIndex(['2022-10-02', '2022-10-09', '2022-10-16', '2022-10-23',\n",
      "               '2022-10-30', '2022-11-06', '2022-11-13', '2022-11-20',\n",
      "               '2022-11-27', '2022-12-04'],\n",
      "              dtype='datetime64[ns]', freq='W-SUN')\n"
     ]
    }
   ],
   "source": [
    "da=pd.date_range(\"10/1/2022\", periods=10, freq=\"W-SUN\")\n",
    "print(\"\\nDate range with day periods.\\n\",da)"
   ]
  },
  {
   "cell_type": "code",
   "execution_count": 9,
   "id": "156da36c",
   "metadata": {},
   "outputs": [
    {
     "name": "stdout",
     "output_type": "stream",
     "text": [
      "\n",
      "Duplicate datetime index:\n",
      " 2020-01-01    0\n",
      "2020-01-02    1\n",
      "2020-01-02    2\n",
      "2020-01-02    3\n",
      "2020-01-03    4\n",
      "dtype: int64\n"
     ]
    }
   ],
   "source": [
    "date=pd.DatetimeIndex([\"1/1/2020\",\"1/2/2020\",\"1/2/2020\",\"1/2/2020\",\n",
    "                       \"1/3/2020\"])\n",
    "ts1=pd.Series(np.arange(5), index=date)\n",
    "print(\"\\nDuplicate datetime index:\\n\",ts1)"
   ]
  },
  {
   "cell_type": "code",
   "execution_count": 10,
   "id": "6d7fc639",
   "metadata": {},
   "outputs": [
    {
     "name": "stdout",
     "output_type": "stream",
     "text": [
      "\n",
      "Repeated date counts:\n",
      " 2020-01-01    1\n",
      "2020-01-02    3\n",
      "2020-01-03    1\n",
      "dtype: int64\n"
     ]
    }
   ],
   "source": [
    "group=ts1.groupby(level=0)\n",
    "print(\"\\nRepeated date counts:\\n\",group.count())\n"
   ]
  },
  {
   "cell_type": "code",
   "execution_count": 11,
   "id": "701691ae",
   "metadata": {},
   "outputs": [
    {
     "name": "stdout",
     "output_type": "stream",
     "text": [
      "\n",
      "Multi-column DataFrame with datatime index:\n",
      "                    A         B         C         D\n",
      "2022-10-02 -1.481686 -2.171351  0.089814 -0.023293\n",
      "2022-10-09  0.353773 -0.523698  0.605806  1.306378\n",
      "2022-10-16 -1.788755  1.857596  0.316253 -0.606599\n",
      "2022-10-23  0.026359 -0.278308 -1.410925  1.771290\n",
      "2022-10-30  0.408714 -1.147935 -0.381856  0.049557\n",
      "2022-11-06  0.421280  0.945389 -0.187052  0.939800\n",
      "2022-11-13 -0.562312  1.078929  0.135782 -0.766985\n",
      "2022-11-20  0.097245  1.082690 -0.550141  0.872909\n",
      "2022-11-27  1.372805 -1.805484 -0.706913 -1.199649\n",
      "2022-12-04 -1.473444 -1.116091 -0.512422 -0.108697\n"
     ]
    }
   ],
   "source": [
    "long_df=pd.DataFrame(np.random.randn(10,4),index=da,columns=list(\"ABCD\"))\n",
    "print(\"\\nMulti-column DataFrame with datatime index:\\n\",long_df)\n"
   ]
  },
  {
   "cell_type": "code",
   "execution_count": null,
   "id": "6eefa38d",
   "metadata": {},
   "outputs": [],
   "source": []
  }
 ],
 "metadata": {
  "kernelspec": {
   "display_name": "Python 3 (ipykernel)",
   "language": "python",
   "name": "python3"
  },
  "language_info": {
   "codemirror_mode": {
    "name": "ipython",
    "version": 3
   },
   "file_extension": ".py",
   "mimetype": "text/x-python",
   "name": "python",
   "nbconvert_exporter": "python",
   "pygments_lexer": "ipython3",
   "version": "3.11.4"
  }
 },
 "nbformat": 4,
 "nbformat_minor": 5
}
