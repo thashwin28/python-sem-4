{
 "cells": [
  {
   "cell_type": "code",
   "execution_count": 1,
   "id": "4875c87d",
   "metadata": {},
   "outputs": [
    {
     "name": "stdout",
     "output_type": "stream",
     "text": [
      "Date Index \n",
      " 2011-01-02    1.517627\n",
      "2011-01-05    0.068445\n",
      "2011-01-07   -1.257441\n",
      "2011-01-08   -0.317931\n",
      "2011-01-10   -0.978442\n",
      "2011-01-12    0.928928\n",
      "dtype: float64\n"
     ]
    }
   ],
   "source": [
    "import pandas as pd\n",
    "import numpy as np\n",
    "from datetime import datetime\n",
    "\n",
    "#create a date variable that contains the dates\n",
    "dates = [datetime(2011, 1, 2),\n",
    "datetime(2011, 1, 5),\n",
    "datetime(2011, 1, 7),\n",
    "datetime(2011, 1, 8),\n",
    "datetime(2011, 1, 10),\n",
    "datetime(2011, 1, 12)]\n",
    "\n",
    "#with this date object, create a series\n",
    "ts = pd.Series(np.random.randn(6), index=dates)\n",
    "print(\"Date Index \\n\",ts)"
   ]
  },
  {
   "cell_type": "code",
   "execution_count": 2,
   "id": "8d69a35a",
   "metadata": {},
   "outputs": [
    {
     "name": "stdout",
     "output_type": "stream",
     "text": [
      "\n",
      "Date Index alone from the series:\n",
      " DatetimeIndex(['2011-01-02', '2011-01-05', '2011-01-07', '2011-01-08',\n",
      "               '2011-01-10', '2011-01-12'],\n",
      "              dtype='datetime64[ns]', freq=None)\n"
     ]
    }
   ],
   "source": [
    "print(\"\\nDate Index alone from the series:\\n\",ts.index)"
   ]
  },
  {
   "cell_type": "code",
   "execution_count": 3,
   "id": "bec5fbbd",
   "metadata": {},
   "outputs": [
    {
     "name": "stdout",
     "output_type": "stream",
     "text": [
      "\n",
      "Second index:\n",
      " 2011-01-07 00:00:00\n"
     ]
    }
   ],
   "source": [
    "stamp=ts.index[2]\n",
    "print(\"\\nSecond index:\\n\", stamp)"
   ]
  },
  {
   "cell_type": "code",
   "execution_count": 4,
   "id": "64c6bfef",
   "metadata": {},
   "outputs": [
    {
     "name": "stdout",
     "output_type": "stream",
     "text": [
      "\n",
      "Daterange up to 1000 days:\n",
      " 2000-01-01    1.309004\n",
      "2000-01-02   -0.703416\n",
      "2000-01-03   -0.103843\n",
      "2000-01-04    0.916326\n",
      "2000-01-05   -0.139819\n",
      "                ...   \n",
      "2002-09-22    0.469249\n",
      "2002-09-23    0.433138\n",
      "2002-09-24   -0.765577\n",
      "2002-09-25   -0.066974\n",
      "2002-09-26    0.721340\n",
      "Freq: D, Length: 1000, dtype: float64\n"
     ]
    }
   ],
   "source": [
    "longer_ts=pd.Series(np.random.randn(1000),\n",
    "index=pd.date_range(\"2000-01-01\",periods=1000))\n",
    "print(\"\\nDaterange up to 1000 days:\\n\",longer_ts)"
   ]
  },
  {
   "cell_type": "code",
   "execution_count": 5,
   "id": "c9e3fb61",
   "metadata": {},
   "outputs": [
    {
     "name": "stdout",
     "output_type": "stream",
     "text": [
      "\n",
      "Date range-2001 year:\n",
      " 2001-01-01    1.449333\n",
      "2001-01-02   -1.432424\n",
      "2001-01-03   -0.588352\n",
      "2001-01-04   -0.642576\n",
      "2001-01-05    1.677372\n",
      "                ...   \n",
      "2001-12-27    0.394644\n",
      "2001-12-28   -1.551603\n",
      "2001-12-29   -0.254725\n",
      "2001-12-30   -0.164256\n",
      "2001-12-31    1.319989\n",
      "Freq: D, Length: 365, dtype: float64\n"
     ]
    }
   ],
   "source": [
    "print(\"\\nDate range-2001 year:\\n\", longer_ts[\"2001\"])"
   ]
  },
  {
   "cell_type": "code",
   "execution_count": 6,
   "id": "3b04f91c",
   "metadata": {},
   "outputs": [
    {
     "name": "stdout",
     "output_type": "stream",
     "text": [
      "\n",
      "Date range-05 month 2001 year:\n",
      " 2001-05-01    1.565329\n",
      "2001-05-02   -0.898396\n",
      "2001-05-03   -0.411294\n",
      "2001-05-04   -0.367018\n",
      "2001-05-05   -1.179965\n",
      "2001-05-06    1.233694\n",
      "2001-05-07    0.746433\n",
      "2001-05-08    0.913317\n",
      "2001-05-09    0.532068\n",
      "2001-05-10   -0.175841\n",
      "2001-05-11    0.522727\n",
      "2001-05-12   -1.502993\n",
      "2001-05-13   -0.033074\n",
      "2001-05-14    1.261170\n",
      "2001-05-15    2.107015\n",
      "2001-05-16   -2.357223\n",
      "2001-05-17   -2.277467\n",
      "2001-05-18    2.280650\n",
      "2001-05-19   -0.051427\n",
      "2001-05-20   -0.250862\n",
      "2001-05-21    0.551681\n",
      "2001-05-22   -0.677563\n",
      "2001-05-23    0.061350\n",
      "2001-05-24    0.206124\n",
      "2001-05-25   -1.747637\n",
      "2001-05-26    2.074574\n",
      "2001-05-27    0.484082\n",
      "2001-05-28    1.377071\n",
      "2001-05-29   -0.130346\n",
      "2001-05-30    1.221873\n",
      "2001-05-31    1.338126\n",
      "Freq: D, dtype: float64\n"
     ]
    }
   ],
   "source": [
    "print(\"\\nDate range-05 month 2001 year:\\n\", longer_ts[\"2001-05\"])"
   ]
  },
  {
   "cell_type": "code",
   "execution_count": 7,
   "id": "6a07985c",
   "metadata": {},
   "outputs": [
    {
     "name": "stdout",
     "output_type": "stream",
     "text": [
      "\n",
      "Date range-first few dates in 2000 year:\n",
      " 2000-01-01    1.309004\n",
      "2000-01-02   -0.703416\n",
      "2000-01-03   -0.103843\n",
      "2000-01-04    0.916326\n",
      "2000-01-05   -0.139819\n",
      "Freq: D, dtype: float64\n"
     ]
    }
   ],
   "source": [
    "print(\"\\nDate range-first few dates in 2000 year:\\n\",longer_ts[\"2000\"].head())"
   ]
  },
  {
   "cell_type": "code",
   "execution_count": 8,
   "id": "1ec1b324",
   "metadata": {},
   "outputs": [
    {
     "name": "stdout",
     "output_type": "stream",
     "text": [
      "\n",
      "Date range-first 15 dates in 02 month 2001 year:\n",
      " 2000-02-01    0.007304\n",
      "2000-02-02    0.241338\n",
      "2000-02-03    0.987990\n",
      "2000-02-04    1.313863\n",
      "2000-02-05   -0.030022\n",
      "2000-02-06   -0.742553\n",
      "2000-02-07    1.237262\n",
      "2000-02-08   -1.124598\n",
      "2000-02-09   -0.201063\n",
      "2000-02-10   -0.097784\n",
      "2000-02-11    0.501697\n",
      "2000-02-12    0.014553\n",
      "2000-02-13    0.208924\n",
      "2000-02-14   -0.390910\n",
      "2000-02-15   -1.754839\n",
      "Freq: D, dtype: float64\n"
     ]
    }
   ],
   "source": [
    "print(\"\\nDate range-first 15 dates in 02 month 2001 year:\\n\",longer_ts[\"2000-02\"].head(15))"
   ]
  },
  {
   "cell_type": "code",
   "execution_count": 9,
   "id": "c799259a",
   "metadata": {},
   "outputs": [
    {
     "name": "stdout",
     "output_type": "stream",
     "text": [
      "\n",
      "Date range-rom 26-9-2001:\n",
      " 2000-09-26   -0.610176\n",
      "2000-09-27   -1.210045\n",
      "2000-09-28    0.470877\n",
      "2000-09-29   -0.698048\n",
      "2000-09-30    0.694881\n",
      "                ...   \n",
      "2002-09-22    0.469249\n",
      "2002-09-23    0.433138\n",
      "2002-09-24   -0.765577\n",
      "2002-09-25   -0.066974\n",
      "2002-09-26    0.721340\n",
      "Freq: D, Length: 731, dtype: float64\n"
     ]
    }
   ],
   "source": [
    "print(\"\\nDate range-rom 26-9-2001:\\n\",longer_ts[datetime(2000,9,26):])"
   ]
  },
  {
   "cell_type": "code",
   "execution_count": null,
   "id": "ff1c05d6",
   "metadata": {},
   "outputs": [],
   "source": []
  }
 ],
 "metadata": {
  "kernelspec": {
   "display_name": "Python 3 (ipykernel)",
   "language": "python",
   "name": "python3"
  },
  "language_info": {
   "codemirror_mode": {
    "name": "ipython",
    "version": 3
   },
   "file_extension": ".py",
   "mimetype": "text/x-python",
   "name": "python",
   "nbconvert_exporter": "python",
   "pygments_lexer": "ipython3",
   "version": "3.11.5"
  }
 },
 "nbformat": 4,
 "nbformat_minor": 5
}
