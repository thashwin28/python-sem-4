{
 "cells": [
  {
   "cell_type": "code",
   "execution_count": 1,
   "id": "3c83dc23",
   "metadata": {},
   "outputs": [
    {
     "name": "stdout",
     "output_type": "stream",
     "text": [
      "2025-04-11 13:46:49.006045\n"
     ]
    }
   ],
   "source": [
    "import datetime\n",
    "cd=datetime.datetime.now()\n",
    "print(cd)"
   ]
  },
  {
   "cell_type": "code",
   "execution_count": 2,
   "id": "2e9e84f9",
   "metadata": {},
   "outputs": [
    {
     "name": "stdout",
     "output_type": "stream",
     "text": [
      "\n",
      "Two-digit year: 25\n"
     ]
    }
   ],
   "source": [
    "res=cd.strftime(\"%y\")\n",
    "print(\"\\nTwo-digit year:\", res)"
   ]
  },
  {
   "cell_type": "code",
   "execution_count": 3,
   "id": "52e8c6bf",
   "metadata": {},
   "outputs": [
    {
     "name": "stdout",
     "output_type": "stream",
     "text": [
      "\n",
      "Four-digit year: 2025\n"
     ]
    }
   ],
   "source": [
    "res1=cd.strftime(\"%Y\")\n",
    "print(\"\\nFour-digit year:\", res1)"
   ]
  },
  {
   "cell_type": "code",
   "execution_count": 4,
   "id": "831f069a",
   "metadata": {},
   "outputs": [
    {
     "name": "stdout",
     "output_type": "stream",
     "text": [
      "\n",
      "Two-digit month [01, 12]: 04\n"
     ]
    }
   ],
   "source": [
    "res=cd.strftime(\"%m\")\n",
    "print(\"\\nTwo-digit month [01, 12]:\",res)"
   ]
  },
  {
   "cell_type": "code",
   "execution_count": 5,
   "id": "4f068c00",
   "metadata": {},
   "outputs": [
    {
     "name": "stdout",
     "output_type": "stream",
     "text": [
      "\n",
      "Short version of month Apr\n"
     ]
    }
   ],
   "source": [
    "res=cd.strftime(\"%b\")\n",
    "print(\"\\nShort version of month\", res)"
   ]
  },
  {
   "cell_type": "code",
   "execution_count": 6,
   "id": "f3f399ac",
   "metadata": {},
   "outputs": [
    {
     "name": "stdout",
     "output_type": "stream",
     "text": [
      "\n",
      "Full name of month: April\n"
     ]
    }
   ],
   "source": [
    "res=cd.strftime(\"%B\")\n",
    "print(\"\\nFull name of month:\",res)"
   ]
  },
  {
   "cell_type": "code",
   "execution_count": 7,
   "id": "07dc33b5",
   "metadata": {},
   "outputs": [
    {
     "name": "stdout",
     "output_type": "stream",
     "text": [
      "\n",
      "Days of the year: 101\n"
     ]
    }
   ],
   "source": [
    "res=cd.strftime(\"%j\")\n",
    "print(\"\\nDays of the year:\", res)"
   ]
  },
  {
   "cell_type": "code",
   "execution_count": 9,
   "id": "53472401",
   "metadata": {},
   "outputs": [
    {
     "name": "stdout",
     "output_type": "stream",
     "text": [
      "\n",
      "Shortcut for %m/%d/%y(e.g.,04/18/12): 04/11/25\n"
     ]
    }
   ],
   "source": [
    "res=cd.strftime(\"%D\")\n",
    "print(\"\\nShortcut for %m/%d/%y(e.g.,04/18/12):\", res)"
   ]
  },
  {
   "cell_type": "code",
   "execution_count": 10,
   "id": "9a48e3b9",
   "metadata": {},
   "outputs": [
    {
     "name": "stdout",
     "output_type": "stream",
     "text": [
      "\n",
      "Two-digit day [01, 31]: 11\n"
     ]
    }
   ],
   "source": [
    "res=cd.strftime(\"%d\")\n",
    "print(\"\\nTwo-digit day [01, 31]:\", res)"
   ]
  },
  {
   "cell_type": "code",
   "execution_count": 11,
   "id": "5846a995",
   "metadata": {},
   "outputs": [
    {
     "name": "stdout",
     "output_type": "stream",
     "text": [
      "\n",
      "Short version of day Fri\n"
     ]
    }
   ],
   "source": [
    "res=cd.strftime(\"%a\")\n",
    "print(\"\\nShort version of day\", res)"
   ]
  },
  {
   "cell_type": "code",
   "execution_count": 12,
   "id": "6f71dd52",
   "metadata": {},
   "outputs": [
    {
     "name": "stdout",
     "output_type": "stream",
     "text": [
      "\n",
      "Full name of a day: A\n"
     ]
    }
   ],
   "source": [
    "res=cd.strftime(\"A\")\n",
    "print(\"\\nFull name of a day:\", res)"
   ]
  },
  {
   "cell_type": "code",
   "execution_count": 13,
   "id": "8a663205",
   "metadata": {},
   "outputs": [
    {
     "name": "stdout",
     "output_type": "stream",
     "text": [
      "\n",
      "Hour (24-hour clock) [00, 23]: 13\n"
     ]
    }
   ],
   "source": [
    "res=cd.strftime(\"%H\")\n",
    "print(\"\\nHour (24-hour clock) [00, 23]:\",res)"
   ]
  },
  {
   "cell_type": "code",
   "execution_count": 14,
   "id": "fe4a33a2",
   "metadata": {},
   "outputs": [
    {
     "name": "stdout",
     "output_type": "stream",
     "text": [
      "\n",
      "Hour(12-hour clock)[01, 12] 01\n"
     ]
    }
   ],
   "source": [
    "res=cd.strftime(\"%I\")\n",
    "print(\"\\nHour(12-hour clock)[01, 12]\",res)"
   ]
  },
  {
   "cell_type": "code",
   "execution_count": 15,
   "id": "0e9a143d",
   "metadata": {},
   "outputs": [
    {
     "name": "stdout",
     "output_type": "stream",
     "text": [
      "\n",
      "Two-digit minute[00, 59]: 46\n"
     ]
    }
   ],
   "source": [
    "res=cd.strftime(\"%M\")\n",
    "print(\"\\nTwo-digit minute[00, 59]:\", res)"
   ]
  },
  {
   "cell_type": "code",
   "execution_count": 16,
   "id": "d48008ba",
   "metadata": {},
   "outputs": [
    {
     "name": "stdout",
     "output_type": "stream",
     "text": [
      "\n",
      "Second (00, 61] (seconds 60, 61 account for leap seconds): 49\n"
     ]
    }
   ],
   "source": [
    "res=cd.strftime(\"%S\")\n",
    "print(\"\\nSecond (00, 61] (seconds 60, 61 account for leap seconds):\",res)"
   ]
  },
  {
   "cell_type": "code",
   "execution_count": 17,
   "id": "a5c59dae",
   "metadata": {},
   "outputs": [
    {
     "name": "stdout",
     "output_type": "stream",
     "text": [
      "\n",
      "Shortcut for %Y-%m-%d (eg, 2012-4-18): 2025-04-11\n"
     ]
    }
   ],
   "source": [
    "res=cd.strftime(\"%F\")\n",
    "print(\"\\nShortcut for %Y-%m-%d (eg, 2012-4-18):\",res)"
   ]
  },
  {
   "cell_type": "code",
   "execution_count": 19,
   "id": "972a6e99",
   "metadata": {},
   "outputs": [
    {
     "name": "stdout",
     "output_type": "stream",
     "text": [
      "\n",
      "Microsecond as an integer,zero-padded(from 000000 to 999999): 006045\n"
     ]
    }
   ],
   "source": [
    "res=cd.strftime(\"%f\")\n",
    "print(\"\\nMicrosecond as an integer,zero-padded(from 000000 to 999999):\",res)"
   ]
  },
  {
   "cell_type": "code",
   "execution_count": 20,
   "id": "5ceab6ed",
   "metadata": {},
   "outputs": [
    {
     "name": "stdout",
     "output_type": "stream",
     "text": [
      "\n",
      "Locale equivalent of AM or PM: PM\n"
     ]
    }
   ],
   "source": [
    "res=cd.strftime(\"%p\")\n",
    "print(\"\\nLocale equivalent of AM or PM:\", res)"
   ]
  },
  {
   "cell_type": "code",
   "execution_count": 24,
   "id": "5d5250e7",
   "metadata": {},
   "outputs": [
    {
     "name": "stdout",
     "output_type": "stream",
     "text": [
      "\n",
      "Locale-appropriate time (e.g.,'04:24:12 PM'): 13:46:49\n"
     ]
    }
   ],
   "source": [
    "res=cd.strftime(\"%X\")\n",
    "print(\"\\nLocale-appropriate time (e.g.,'04:24:12 PM'):\",res)"
   ]
  },
  {
   "cell_type": "code",
   "execution_count": 28,
   "id": "9f698703",
   "metadata": {},
   "outputs": [
    {
     "name": "stdout",
     "output_type": "stream",
     "text": [
      "\n",
      "Locale-appropriate formatted date(eg, in the United States, May 1, 2012 yields'05/01/2012) 04/11/25\n"
     ]
    }
   ],
   "source": [
    "res=cd.strftime(\"%x\")\n",
    "print(\"\\nLocale-appropriate formatted date(eg, in the United States, May 1, 2012 yields'05/01/2012)\", res)"
   ]
  },
  {
   "cell_type": "code",
   "execution_count": null,
   "id": "58ec54c1",
   "metadata": {},
   "outputs": [],
   "source": []
  }
 ],
 "metadata": {
  "kernelspec": {
   "display_name": "Python 3 (ipykernel)",
   "language": "python",
   "name": "python3"
  },
  "language_info": {
   "codemirror_mode": {
    "name": "ipython",
    "version": 3
   },
   "file_extension": ".py",
   "mimetype": "text/x-python",
   "name": "python",
   "nbconvert_exporter": "python",
   "pygments_lexer": "ipython3",
   "version": "3.11.5"
  }
 },
 "nbformat": 4,
 "nbformat_minor": 5
}
