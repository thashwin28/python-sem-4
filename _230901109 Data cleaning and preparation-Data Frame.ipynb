{
 "cells": [
  {
   "cell_type": "code",
   "execution_count": 2,
   "id": "afc09d15",
   "metadata": {},
   "outputs": [
    {
     "name": "stdout",
     "output_type": "stream",
     "text": [
      "Original DataFrame with NaN\n",
      "         one       two     three\n",
      "a -0.223671 -0.903766 -0.288007\n",
      "b       NaN       NaN       NaN\n",
      "c  1.265788  1.195534  1.152903\n",
      "d  0.797292  0.792740  2.099910\n",
      "e       NaN       NaN       NaN\n",
      "f -0.664128 -2.188561  1.694572\n",
      "\n",
      "\n",
      "Dropped DataFrame\n",
      "         one       two     three\n",
      "a -0.223671 -0.903766 -0.288007\n",
      "c  1.265788  1.195534  1.152903\n",
      "d  0.797292  0.792740  2.099910\n",
      "f -0.664128 -2.188561  1.694572\n",
      "\n",
      "\n"
     ]
    }
   ],
   "source": [
    "import pandas as pd\n",
    "import numpy as np\n",
    "df=pd.DataFrame(np.random.randn(4,3),index=['a','c','d','f'],columns=['one','two','three'])\n",
    "df=df.reindex(['a','b','c','d','e','f'])\n",
    "print(\"Original DataFrame with NaN\\n\",df)\n",
    "print(\"\\n\")\n",
    "print(\"Dropped DataFrame\\n\",df.dropna())\n",
    "print(\"\\n\")"
   ]
  },
  {
   "cell_type": "code",
   "execution_count": 9,
   "id": "b27488f5",
   "metadata": {},
   "outputs": [
    {
     "name": "stdout",
     "output_type": "stream",
     "text": [
      "Original DataFrame with NaN\n",
      "         one       two     three\n",
      "a -0.747305 -1.240524  0.750155\n",
      "b       NaN       NaN       NaN\n",
      "c -1.020404 -0.616162  0.207677\n",
      "\n",
      "\n",
      "NaN replaced with '0':\n",
      "         one       two     three\n",
      "a -0.747305 -1.240524  0.750155\n",
      "b  0.000000  0.000000  0.000000\n",
      "c -1.020404 -0.616162  0.207677\n",
      "\n",
      "\n"
     ]
    }
   ],
   "source": [
    "import pandas as pd\n",
    "import numpy as np\n",
    "df=pd.DataFrame(np.random.randn(4,3),index=['a','c','d','f'],columns=['one','two','three'])\n",
    "df=df.reindex(['a','b','c'])\n",
    "print(\"Original DataFrame with NaN\\n\",df)\n",
    "print(\"\\n\")\n",
    "print(\"NaN replaced with '0':\\n\",df.fillna(0))\n",
    "print(\"\\n\")"
   ]
  },
  {
   "cell_type": "code",
   "execution_count": 10,
   "id": "ba8aa929",
   "metadata": {},
   "outputs": [
    {
     "name": "stdout",
     "output_type": "stream",
     "text": [
      "Original DataFrame :\n",
      "    one  two\n",
      "0   10   60\n",
      "1   20   70\n",
      "2   80   80\n",
      "3   40    0\n",
      "4   50   10\n",
      "\n",
      " DataFrame with replaced values:\n",
      "\n",
      "   one  two\n",
      "0    5   60\n",
      "1   20   70\n",
      "2    3    3\n",
      "3   40    0\n",
      "4   50    5\n"
     ]
    }
   ],
   "source": [
    "df=pd.DataFrame({'one':[10,20,80,40,50],'two':[60,70,80,0,10]})\n",
    "print(\"Original DataFrame :\\n\",df)\n",
    "print(\"\\n DataFrame with replaced values:\\n\")\n",
    "print(df.replace({10:5,80:3}))"
   ]
  },
  {
   "cell_type": "code",
   "execution_count": 14,
   "id": "f48a5fa0",
   "metadata": {},
   "outputs": [
    {
     "name": "stdout",
     "output_type": "stream",
     "text": [
      "Original DataFrame :\n",
      "         one       two     three\n",
      "a  1.206127 -0.189830 -1.524803\n",
      "b       NaN       NaN       NaN\n",
      "c  1.426220 -1.464549 -0.346324\n",
      "d  1.011814 -0.018996  0.507214\n",
      "e       NaN       NaN       NaN\n",
      "f -0.378515  0.851000  0.073880\n",
      "\n",
      " NaN-with True fill:\n",
      "\n",
      "a    False\n",
      "b     True\n",
      "c    False\n",
      "d    False\n",
      "e     True\n",
      "f    False\n",
      "Name: one, dtype: bool\n"
     ]
    }
   ],
   "source": [
    "df=pd.DataFrame(np.random.randn(4,3),index=['a','c','d','f'],columns=['one','two','three'])\n",
    "df=df.reindex(['a','b','c','d','e','f'])\n",
    "print(\"Original DataFrame :\\n\",df)\n",
    "print(\"\\n NaN-with True fill:\\n\")\n",
    "print(df['one'].isnull())"
   ]
  },
  {
   "cell_type": "code",
   "execution_count": 13,
   "id": "dc070baf",
   "metadata": {},
   "outputs": [
    {
     "name": "stdout",
     "output_type": "stream",
     "text": [
      "\n",
      " NaN-filled with Background values:\n",
      "\n",
      "        one       two     three\n",
      "a -0.116029  0.804266 -0.511746\n",
      "b  0.716303  0.541015  0.327512\n",
      "c  0.716303  0.541015  0.327512\n",
      "d  2.473663 -0.226988  3.268337\n",
      "e  0.721215  0.706866  0.842285\n",
      "f  0.721215  0.706866  0.842285\n"
     ]
    }
   ],
   "source": [
    "print(\"\\n NaN-filled with Background values:\\n\")\n",
    "print(df.fillna(method='bfill'))"
   ]
  },
  {
   "cell_type": "code",
   "execution_count": null,
   "id": "e40d3aa2",
   "metadata": {},
   "outputs": [],
   "source": []
  }
 ],
 "metadata": {
  "kernelspec": {
   "display_name": "Python 3 (ipykernel)",
   "language": "python",
   "name": "python3"
  },
  "language_info": {
   "codemirror_mode": {
    "name": "ipython",
    "version": 3
   },
   "file_extension": ".py",
   "mimetype": "text/x-python",
   "name": "python",
   "nbconvert_exporter": "python",
   "pygments_lexer": "ipython3",
   "version": "3.11.5"
  }
 },
 "nbformat": 4,
 "nbformat_minor": 5
}
