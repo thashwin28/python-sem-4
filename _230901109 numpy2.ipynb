{
 "cells": [
  {
   "cell_type": "code",
   "execution_count": 4,
   "id": "8c35e938",
   "metadata": {},
   "outputs": [
    {
     "name": "stdout",
     "output_type": "stream",
     "text": [
      "[3 4 5 6]\n"
     ]
    }
   ],
   "source": [
    "import numpy as np\n",
    "arr=np.array([1,2,3,4,5,6,7,8,9])\n",
    "slice1=arr[2:6]\n",
    "print(slice1)"
   ]
  },
  {
   "cell_type": "code",
   "execution_count": 5,
   "id": "f73cd17b",
   "metadata": {},
   "outputs": [
    {
     "name": "stdout",
     "output_type": "stream",
     "text": [
      "[1 3 5 7 9]\n"
     ]
    }
   ],
   "source": [
    "slice2=arr[::2]\n",
    "print(slice2)"
   ]
  },
  {
   "cell_type": "code",
   "execution_count": 6,
   "id": "41472ee6",
   "metadata": {},
   "outputs": [
    {
     "name": "stdout",
     "output_type": "stream",
     "text": [
      "[9 8 7 6 5 4 3 2 1]\n"
     ]
    }
   ],
   "source": [
    "rev_arr=arr[::-1]\n",
    "print(rev_arr)"
   ]
  },
  {
   "cell_type": "code",
   "execution_count": 8,
   "id": "7afb1e30",
   "metadata": {},
   "outputs": [
    {
     "name": "stdout",
     "output_type": "stream",
     "text": [
      "[[ 1  2  3  4]\n",
      " [ 9 10 11 12]]\n",
      "[[ 1  2  3  4]\n",
      " [ 9 10 11 12]]\n",
      "[[ 5  6  7  8]\n",
      " [ 9 10 11 12]]\n",
      "[[11 12]]\n",
      "[ 3  7 11]\n",
      "[[1 2 3 4]]\n"
     ]
    }
   ],
   "source": [
    "a=np.array([[1,2,3,4],[5,6,7,8],[9,10,11,12]])\n",
    "print(a[0:3:2])\n",
    "print(a[0::2])\n",
    "print(a[1::])\n",
    "print(a[2:,2:])\n",
    "print(a[:,2])\n",
    "print(a[:2:3])"
   ]
  },
  {
   "cell_type": "code",
   "execution_count": 3,
   "id": "c5ee1c9a",
   "metadata": {},
   "outputs": [
    {
     "name": "stdout",
     "output_type": "stream",
     "text": [
      "[[2 3]\n",
      " [5 6]]\n"
     ]
    }
   ],
   "source": [
    "import numpy as np\n",
    "arr=np.array([[1,2,3],[4,5,6],[7,8,9]])\n",
    "subarray=arr[0:2,1:3]\n",
    "print(subarray)"
   ]
  },
  {
   "cell_type": "code",
   "execution_count": 5,
   "id": "25204307",
   "metadata": {},
   "outputs": [
    {
     "name": "stdout",
     "output_type": "stream",
     "text": [
      "[[7 8 9]\n",
      " [4 5 6]\n",
      " [1 2 3]]\n"
     ]
    }
   ],
   "source": [
    "Reversed_array=arr[::-1]\n",
    "print(Reversed_array)"
   ]
  },
  {
   "cell_type": "code",
   "execution_count": 7,
   "id": "8e91d378",
   "metadata": {},
   "outputs": [
    {
     "name": "stdout",
     "output_type": "stream",
     "text": [
      "[1 4 7]\n"
     ]
    }
   ],
   "source": [
    "col1=arr[:,0]\n",
    "print(col1)"
   ]
  },
  {
   "cell_type": "code",
   "execution_count": 8,
   "id": "e47ce580",
   "metadata": {},
   "outputs": [
    {
     "name": "stdout",
     "output_type": "stream",
     "text": [
      "10\n",
      "50\n"
     ]
    }
   ],
   "source": [
    "arr=np.array([10,20,30,40,50])\n",
    "print(arr[0])\n",
    "print(arr[4])"
   ]
  },
  {
   "cell_type": "code",
   "execution_count": 9,
   "id": "de8ac233",
   "metadata": {},
   "outputs": [
    {
     "name": "stdout",
     "output_type": "stream",
     "text": [
      "50\n"
     ]
    }
   ],
   "source": [
    "print(arr[-1])"
   ]
  },
  {
   "cell_type": "code",
   "execution_count": 10,
   "id": "01d98df1",
   "metadata": {},
   "outputs": [
    {
     "name": "stdout",
     "output_type": "stream",
     "text": [
      "[20 30 40]\n"
     ]
    }
   ],
   "source": [
    "print(arr[1:4])"
   ]
  },
  {
   "cell_type": "code",
   "execution_count": 11,
   "id": "0802a6b7",
   "metadata": {},
   "outputs": [
    {
     "name": "stdout",
     "output_type": "stream",
     "text": [
      "[30 40 50]\n"
     ]
    }
   ],
   "source": [
    "print(arr[arr>25])"
   ]
  },
  {
   "cell_type": "code",
   "execution_count": 13,
   "id": "cf88e053",
   "metadata": {},
   "outputs": [
    {
     "name": "stdout",
     "output_type": "stream",
     "text": [
      "[20 40]\n"
     ]
    }
   ],
   "source": [
    "print(arr[[1,3]])"
   ]
  },
  {
   "cell_type": "code",
   "execution_count": 14,
   "id": "b5401c75",
   "metadata": {},
   "outputs": [
    {
     "name": "stdout",
     "output_type": "stream",
     "text": [
      "1\n",
      "6\n"
     ]
    }
   ],
   "source": [
    "arr=np.array([[1,2,3],[4,5,6],[7,8,9]])\n",
    "print(arr[0,0])\n",
    "print(arr[1,2])"
   ]
  },
  {
   "cell_type": "code",
   "execution_count": 15,
   "id": "138074d4",
   "metadata": {},
   "outputs": [
    {
     "name": "stdout",
     "output_type": "stream",
     "text": [
      "[[1 2 5 6]\n",
      " [3 4 7 8]]\n"
     ]
    }
   ],
   "source": [
    "arr1=np.array([[1,2],[3,4]])\n",
    "arr2=np.array([[5,6],[7,8]])\n",
    "result=np.hstack((arr1,arr2))\n",
    "print(result)"
   ]
  },
  {
   "cell_type": "code",
   "execution_count": 16,
   "id": "ad8c5a12",
   "metadata": {},
   "outputs": [
    {
     "name": "stdout",
     "output_type": "stream",
     "text": [
      "[[1 2]\n",
      " [3 4]\n",
      " [5 6]\n",
      " [7 8]]\n"
     ]
    }
   ],
   "source": [
    "result1=np.vstack((arr1,arr2))\n",
    "print(result1)"
   ]
  },
  {
   "cell_type": "code",
   "execution_count": 17,
   "id": "9391567f",
   "metadata": {},
   "outputs": [
    {
     "name": "stdout",
     "output_type": "stream",
     "text": [
      "[[[1 5]\n",
      "  [2 6]]\n",
      "\n",
      " [[3 7]\n",
      "  [4 8]]]\n"
     ]
    }
   ],
   "source": [
    "result2=np.dstack((arr1,arr2))\n",
    "print(result2)"
   ]
  },
  {
   "cell_type": "code",
   "execution_count": 22,
   "id": "1b1cf314",
   "metadata": {},
   "outputs": [
    {
     "name": "stdout",
     "output_type": "stream",
     "text": [
      "[array([1, 2]), array([3, 4]), array([5, 6])]\n"
     ]
    }
   ],
   "source": [
    "import numpy as np\n",
    "arr=np.array([1,2,3,4,5,6])\n",
    "result=np.split(arr,3)\n",
    "print(result)"
   ]
  },
  {
   "cell_type": "code",
   "execution_count": 23,
   "id": "1203adf9",
   "metadata": {},
   "outputs": [
    {
     "name": "stdout",
     "output_type": "stream",
     "text": [
      "[array([1, 2]), array([3, 4]), array([5, 6])]\n"
     ]
    }
   ],
   "source": [
    "arr1=np.array([1,2,3,4,5])\n",
    "result1=np.array_split(arr,3)\n",
    "print(result1)"
   ]
  },
  {
   "cell_type": "code",
   "execution_count": 24,
   "id": "120e83c5",
   "metadata": {},
   "outputs": [
    {
     "name": "stdout",
     "output_type": "stream",
     "text": [
      "[array([1, 2]), array([3, 4]), array([5, 6])]\n"
     ]
    }
   ],
   "source": [
    "arr2=np.array([[1,2,3],[4,5,6]])\n",
    "result2=np.hsplit(arr,3)\n",
    "print(result2)"
   ]
  },
  {
   "cell_type": "code",
   "execution_count": 27,
   "id": "15acd890",
   "metadata": {},
   "outputs": [
    {
     "name": "stdout",
     "output_type": "stream",
     "text": [
      "[array([[1, 2, 3]]), array([[4, 5, 6]]), array([[7, 8, 9]])]\n"
     ]
    }
   ],
   "source": [
    "arr3=np.array([[1,2,3],[4,5,6],[7,8,9]])\n",
    "result3=np.vsplit(arr3,3)\n",
    "print(result3)"
   ]
  },
  {
   "cell_type": "code",
   "execution_count": 30,
   "id": "52894a4d",
   "metadata": {},
   "outputs": [
    {
     "name": "stdout",
     "output_type": "stream",
     "text": [
      "[array([[[1],\n",
      "        [3]],\n",
      "\n",
      "       [[5],\n",
      "        [7]]]), array([[[2],\n",
      "        [4]],\n",
      "\n",
      "       [[6],\n",
      "        [8]]])]\n"
     ]
    }
   ],
   "source": [
    "arr4=np.array([[[1,2],[3,4]],[[5,6],[7,8]]])\n",
    "result4=np.dsplit(arr4,2)\n",
    "print(result4)"
   ]
  },
  {
   "cell_type": "code",
   "execution_count": null,
   "id": "a8f170ba",
   "metadata": {},
   "outputs": [],
   "source": []
  }
 ],
 "metadata": {
  "kernelspec": {
   "display_name": "Python 3 (ipykernel)",
   "language": "python",
   "name": "python3"
  },
  "language_info": {
   "codemirror_mode": {
    "name": "ipython",
    "version": 3
   },
   "file_extension": ".py",
   "mimetype": "text/x-python",
   "name": "python",
   "nbconvert_exporter": "python",
   "pygments_lexer": "ipython3",
   "version": "3.11.5"
  }
 },
 "nbformat": 4,
 "nbformat_minor": 5
}
