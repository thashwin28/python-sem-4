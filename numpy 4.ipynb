{
 "cells": [
  {
   "cell_type": "code",
   "execution_count": 1,
   "id": "705356e4",
   "metadata": {},
   "outputs": [
    {
     "name": "stdout",
     "output_type": "stream",
     "text": [
      "[10 20 30 40 50]\n",
      "[6 2 9 7 1]\n",
      "[16 22 39 47 51]\n",
      "[ 4 18 21 33 49]\n",
      "[ 60  40 270 280  50]\n",
      "[ 1.66666667 10.          3.33333333  5.71428571 50.        ]\n"
     ]
    }
   ],
   "source": [
    "import numpy as np\n",
    "arr1=[10,20,30,40,50]\n",
    "arr2=[6,2,9,7,1]\n",
    "a=np.array(arr1)\n",
    "b=np.array(arr2)\n",
    "print(a)\n",
    "print(b)\n",
    "print(a+b)\n",
    "print(a-b)\n",
    "print(a*b)\n",
    "print(a/b)"
   ]
  },
  {
   "cell_type": "code",
   "execution_count": 2,
   "id": "de8fdae7",
   "metadata": {},
   "outputs": [
    {
     "name": "stdout",
     "output_type": "stream",
     "text": [
      "700\n"
     ]
    }
   ],
   "source": [
    "print(a.dot(b))"
   ]
  },
  {
   "cell_type": "code",
   "execution_count": 3,
   "id": "51d5578a",
   "metadata": {},
   "outputs": [
    {
     "name": "stdout",
     "output_type": "stream",
     "text": [
      "Scalar value: 3\n",
      "Array: [10 20 30 40 50]\n",
      "Result: [ 30  60  90 120 150]\n"
     ]
    }
   ],
   "source": [
    "sclr=3\n",
    "print(\"Scalar value:\",sclr)\n",
    "print(\"Array:\",a)\n",
    "print(\"Result:\",a*sclr)"
   ]
  },
  {
   "cell_type": "code",
   "execution_count": 5,
   "id": "58a52c30",
   "metadata": {},
   "outputs": [
    {
     "name": "stdout",
     "output_type": "stream",
     "text": [
      "[[1 6]\n",
      " [0 4]]\n"
     ]
    }
   ],
   "source": [
    "a=np.array([[10,20],[30,40]])\n",
    "b=np.array([[3,7],[5,9]])\n",
    "print(a%b)"
   ]
  },
  {
   "cell_type": "code",
   "execution_count": 15,
   "id": "ee6b5f18",
   "metadata": {},
   "outputs": [
    {
     "name": "stdout",
     "output_type": "stream",
     "text": [
      "array1: [10, 20, 30, 40]\n",
      "array2: [2, 10, 35, 25]\n",
      "Result: [ 8 10 65 15]\n"
     ]
    }
   ],
   "source": [
    "def my_func(x,y):\n",
    "    if x>y:\n",
    "        return x-y\n",
    "    else:\n",
    "        return x+y\n",
    "arr1=[10,20,30,40]\n",
    "arr2=[2,10,35,25]\n",
    "print(\"array1:\",arr1)\n",
    "print(\"array2:\",arr2)\n",
    "vect_func=np.vectorize(my_func)\n",
    "print(\"Result:\",vect_func(arr1,arr2))"
   ]
  }
 ],
 "metadata": {
  "kernelspec": {
   "display_name": "Python 3 (ipykernel)",
   "language": "python",
   "name": "python3"
  },
  "language_info": {
   "codemirror_mode": {
    "name": "ipython",
    "version": 3
   },
   "file_extension": ".py",
   "mimetype": "text/x-python",
   "name": "python",
   "nbconvert_exporter": "python",
   "pygments_lexer": "ipython3",
   "version": "3.11.5"
  }
 },
 "nbformat": 4,
 "nbformat_minor": 5
}
